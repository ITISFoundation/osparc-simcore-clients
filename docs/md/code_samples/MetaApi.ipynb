{
 "cells": [
  {
   "cell_type": "markdown",
   "id": "tender-knock",
   "metadata": {},
   "source": [
    "# osparc.MetaApi\n",
    "\n",
    "All URIs are relative to *https://api.osparc.io*\n",
    "\n",
    "Method | HTTP request | Description\n",
    "------------- | ------------- | -------------\n",
    "[**get_service_metadata**](MetaApi.md#get_service_metadata) | **GET** /v0/meta | Get Service Metadata\n",
    "\n",
    "\n",
    "# **get_service_metadata**\n",
    "\n",
    "> Meta get_service_metadata()\n",
    "\n",
    "Get Service Metadata\n",
    "\n",
    "### Example"
   ]
  },
  {
   "cell_type": "code",
   "execution_count": null,
   "id": "integral-desktop",
   "metadata": {},
   "outputs": [],
   "source": [
    "from __future__ import print_function\n",
    "import time\n",
    "import osparc\n",
    "from osparc.rest import ApiException\n",
    "from pprint import pprint\n",
    "\n",
    "# Enter a context with an instance of the API client\n",
    "with osparc.ApiClient() as api_client:\n",
    "    # Create an instance of the API class\n",
    "    api_instance = osparc.MetaApi(api_client)\n",
    "    \n",
    "    try:\n",
    "        # Get Service Metadata\n",
    "        api_response = api_instance.get_service_metadata()\n",
    "        pprint(api_response)\n",
    "    except ApiException as e:\n",
    "        print(\"Exception when calling MetaApi->get_service_metadata: %s\\n\" % e)"
   ]
  },
  {
   "cell_type": "markdown",
   "id": "collaborative-celtic",
   "metadata": {},
   "source": [
    "### Parameters\n",
    "This endpoint does not need any parameter.\n",
    "\n",
    "### Return type\n",
    "\n",
    "[**Meta**](Meta.md)\n",
    "\n",
    "### Authorization\n",
    "\n",
    "No authorization required\n",
    "\n",
    "### HTTP request headers\n",
    "\n",
    " - **Content-Type**: Not defined\n",
    " - **Accept**: application/json\n",
    "\n",
    "### HTTP response details\n",
    "| Status code | Description | Response headers |\n",
    "|-------------|-------------|------------------|\n",
    "**200** | Successful Response |  -  |\n",
    "\n",
    "[[Back to top]](#) [[Back to API list]](../README.md#documentation-for-api-endpoints) [[Back to Model list]](../README.md#documentation-for-models) [[Back to README]](../README.md)"
   ]
  }
 ],
 "metadata": {},
 "nbformat": 4,
 "nbformat_minor": 5
}
