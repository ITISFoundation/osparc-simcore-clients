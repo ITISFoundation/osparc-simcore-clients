{
 "cells": [
  {
   "attachments": {},
   "cell_type": "markdown",
   "id": "f15de720",
   "metadata": {},
   "source": [
    "# Study Tutorial\n",
    "\n",
    "\n",
    "\n",
    "## Installation and configuration\n",
    "The installation and configuration process is discussed in detail in the `BasicTutorial`. Of course, if we don't already have `osparc` installed we need to do so and we need to setup the `osparc.Configuration`:"
   ]
  },
  {
   "cell_type": "code",
   "execution_count": null,
   "id": "992916f5",
   "metadata": {},
   "outputs": [],
   "source": [
    "import os\n",
    "import importlib.util\n",
    "if importlib.util.find_spec('osparc') is None:\n",
    "    ! pip install osparc\n",
    "from osparc import Configuration\n",
    "cfg: Configuration = Configuration(\n",
    "    host=os.environ[\"OSPARC_API_HOST\"],\n",
    "    username=os.environ[\"OSPARC_API_KEY\"],\n",
    "    password=os.environ[\"OSPARC_API_SECRET\"]\n",
    ")\n",
    "\n",
    "# this tutorial is compatible with version > 0.5.0\n",
    "assert tuple(map(int, osparc.__version__.split(\".\"))) > (0, 5, 0)"
   ]
  },
  {
   "attachments": {},
   "cell_type": "markdown",
   "id": "6912889e",
   "metadata": {},
   "source": [
    "## Study Workflow\n",
    "\n",
    "Studies can connect computational resources as well as pre- and postprocess data. Studies mmust be created through the UI (where you generated the `OSPARC_API_KEY` and the `OSPARC_API_SECRET`). Once a study has been created via the UI one can interact with it (modify, run, read and write data to it etc.) using the `osparc` python package. Here we will demonstrate the typical workflow. As an illustration we consider a simple study containing a single sleeper solver.\n"
   ]
  },
  {
   "cell_type": "code",
   "execution_count": null,
   "id": "398bcd09",
   "metadata": {},
   "outputs": [],
   "source": [
    "import time\n",
    "from pathlib import Path\n",
    "from zipfile import ZipFile\n",
    "from tempfile import TemporaryDirectory\n",
    "\n",
    "import osparc\n",
    "\n",
    "# Get the ID of a study under the study information\n",
    "SLEEPER_STUDY_ID: str = \"fcad50ac-253e-11ee-9414-02420a0f071c\"\n",
    "\n",
    "with osparc.ApiClient(cfg) as api_client:\n",
    "\n",
    "    studies_api: osparc.StudiesApi = osparc.StudiesApi(api_client)\n",
    "    study: osparc.Study = studies_api.get_study(SLEEPER_STUDY_ID)\n",
    "\n",
    "\n",
    "    job: osparc.Job = studies_api.create_study_job(study_id=study.id, \n",
    "                                                   job_inputs=osparc.JobInputs({\n",
    "                                                       \"X\": 1\n",
    "                                                   }))\n",
    "\n",
    "    status: osparc.JobStatus = studies_api.start_study_job(study.id, job_id=job.id)\n",
    "    while not status.stopped_at:\n",
    "        time.sleep(3)\n",
    "        status = studies_api.inspect_study_job(study.id, job.id)\n",
    "        print(\"Solver progress\", f\"{status.progress}/100\", flush=True)\n",
    "\n",
    "    outputs: osparc.JobOutputs = studies_api.get_study_job_outputs(study_id=study.id, job_id=job.id)\n",
    "\n",
    "    print(f\"Job {outputs.job_id} got these results:\")\n",
    "    for output_name, result in outputs.results.items():\n",
    "        print(output_name, \"=\", result)\n",
    "\n",
    "    logfile_path: str = studies_api.get_study_job_output_logfile(study.id, job.id)\n",
    "    zip_path = Path(logfile_path)\n",
    "\n",
    "    with TemporaryDirectory() as tmp_dir:\n",
    "        with ZipFile(f\"{zip_path}\") as fzip:\n",
    "            fzip.extractall(tmp_dir)\n",
    "        logfiles = list(Path(tmp_dir).glob(\"*.log*\"))\n",
    "        print(\"Unzipped\", logfiles[0], \"contains:\\n\", logfiles[0].read_text())\n"
   ]
  },
  {
   "attachments": {},
   "cell_type": "markdown",
   "id": "c0092d84",
   "metadata": {},
   "source": [
    "The script above\n",
    "\n",
    "1. Gets the sleeper study\n",
    "2. Submits a job to the sleeper study (asking it to sleep for `X=1` second)\n",
    "3. When the execution completes, it checks the outputs\n",
    "4. The logs are downloaded and extracted\n"
   ]
  },
  {
   "attachments": {},
   "cell_type": "markdown",
   "id": "72d60050",
   "metadata": {},
   "source": [
    "## References\n",
    "\n",
    "- [osparc API python client] documentation\n",
    "- [osparc API] documentation\n",
    "\n",
    "[osparc API python client]:https://itisfoundation.github.io/osparc-simcore-python-client\n",
    "[osparc API]:https://api.osparc.io/doc"
   ]
  }
 ],
 "metadata": {
  "kernelspec": {
   "display_name": "",
   "language": "python",
   "name": ""
  },
  "language_info": {
   "codemirror_mode": {
    "name": "ipython",
    "version": 3
   },
   "file_extension": ".py",
   "mimetype": "text/x-python",
   "name": "python",
   "nbconvert_exporter": "python",
   "pygments_lexer": "ipython3",
   "version": "3.9.0"
  }
 },
 "nbformat": 4,
 "nbformat_minor": 5
}
