{
 "cells": [
  {
   "attachments": {},
   "cell_type": "markdown",
   "id": "f15de720",
   "metadata": {},
   "source": [
    "# Wallet Tutorial\n",
    "\n",
    "\n",
    "\n",
    "## Installation\n",
    "Install the python client and check the installation as follows:"
   ]
  },
  {
   "cell_type": "code",
   "execution_count": null,
   "id": "09653e21",
   "metadata": {
    "attributes": {
     "classes": [
      "command"
     ],
     "id": ""
    }
   },
   "outputs": [],
   "source": [
    "import osparc\n",
    "from packaging.version import Version\n",
    "\n",
    "assert Version(osparc.__version__) > Version(\n",
    "    \"0.8.3.post0.dev10\"\n",
    "), \"This tutorial requires a new version of osparc\""
   ]
  },
  {
   "attachments": {},
   "cell_type": "markdown",
   "id": "34c8833d",
   "metadata": {},
   "source": [
    "## Setup\n",
    "\n",
    "To setup the client, we need to provide a username and password to the configuration. These can be obtained in the UI under [Preferences > API Settings > API Keys](https://docs.osparc.io/#/docs/platform_introduction/user_setup/security_details?id=generating-o%c2%b2s%c2%b2parc-tokens). Use the *API key* as username and the *API secret* as password. These should be specified as environment variables \"OSPARC_API_KEY\" and \"OSPARC_API_SECRET\" respectively. In addition you can specify the osparc endpoint you want to use (e.g. `https://api.osparc.io`) via the environment variable \"OSPARC_API_HOST\"."
   ]
  },
  {
   "attachments": {},
   "cell_type": "markdown",
   "id": "630c5926",
   "metadata": {},
   "source": [
    "The functions in the [osparc API](https://api.osparc.io/dev/doc#/) are grouped into sections such as *meta*, *users*, *files*, *solvers*, *studies*, *wallets* and *credits*. Each section address a different resource of the platform.\n",
    "\n",
    "For example, the *users* section includes functions about the user (i.e. you) and can be accessed initializing a ``UsersApi``:"
   ]
  },
  {
   "cell_type": "code",
   "execution_count": null,
   "id": "29337833",
   "metadata": {},
   "outputs": [],
   "source": [
    "from osparc import ApiClient, UsersApi\n",
    "\n",
    "with ApiClient() as api_client:\n",
    "    users_api = UsersApi(api_client)\n",
    "\n",
    "    profile = users_api.get_my_profile()\n",
    "    print(profile)\n",
    "\n",
    "    #\n",
    "    #  {'first_name': 'foo',\n",
    "    #  'gravatar_id': 'aa33fssec77ea434c2ea4fb92d0fd379e',\n",
    "    #  'groups': {'all': {'description': 'all users',\n",
    "    #                     'gid': '1',\n",
    "    #                     'label': 'Everyone'},\n",
    "    #             'me': {'description': 'primary group',\n",
    "    #                    'gid': '2',\n",
    "    #                    'label': 'foo'},\n",
    "    #             'organizations': []},\n",
    "    #  'last_name': '',\n",
    "    #  'login': 'foo@itis.swiss',\n",
    "    #  'role': 'USER'}\n",
    "    #"
   ]
  }
 ],
 "metadata": {
  "kernelspec": {
   "display_name": "",
   "language": "python",
   "name": ""
  },
  "language_info": {
   "codemirror_mode": {
    "name": "ipython",
    "version": 3
   },
   "file_extension": ".py",
   "mimetype": "text/x-python",
   "name": "python",
   "nbconvert_exporter": "python",
   "pygments_lexer": "ipython3",
   "version": "3.10.11"
  }
 },
 "nbformat": 4,
 "nbformat_minor": 5
}
