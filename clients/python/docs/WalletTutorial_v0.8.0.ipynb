{
 "cells": [
  {
   "attachments": {},
   "cell_type": "markdown",
   "id": "f15de720",
   "metadata": {},
   "source": [
    "# Wallet Tutorial\n",
    "\n",
    "\n",
    "## Check osparc version\n",
    "Sanity check that the installed version of `osparc` supports accessing the wallets and credits api."
   ]
  },
  {
   "cell_type": "code",
   "execution_count": null,
   "id": "09653e21",
   "metadata": {
    "attributes": {
     "classes": [
      "command"
     ],
     "id": ""
    }
   },
   "outputs": [],
   "source": [
    "import osparc\n",
    "from packaging.version import Version\n",
    "\n",
    "assert Version(osparc.__version__) >= Version(\n",
    "    \"0.8.3.post0.dev10\"\n",
    "), \"This tutorial requires a new version of osparc\""
   ]
  },
  {
   "attachments": {},
   "cell_type": "markdown",
   "id": "630c5926",
   "metadata": {},
   "source": [
    "To access the *wallets* and *credits* sections of oSPARC's public api one uses the `osparc` Python package's `WalletsApi` and `CreditsApi` respectively."
   ]
  },
  {
   "cell_type": "code",
   "execution_count": null,
   "id": "29337833",
   "metadata": {},
   "outputs": [],
   "source": [
    "from osparc import ApiClient, WalletsApi\n",
    "\n",
    "with ApiClient() as api_client:\n",
    "    wallets_api = WalletsApi(api_client)\n",
    "\n",
    "    default_wallet = wallets_api.get_default_wallet()\n",
    "    print(default_wallet)\n",
    "\n",
    "    wallet = wallets_api.get_wallet(wallet_id=default_wallet.wallet_id)\n",
    "    print(wallet)\n",
    "\n",
    "## Example output\n",
    "# {'available_credits': 10,\n",
    "#  'created': datetime.datetime(2020, 3, 14, 9, 29, 46, 795994, tzinfo=tzutc()),\n",
    "#  'description': 'Credits purchased by Mr. Miyagi end up in here',\n",
    "#  'modified': datetime.datetime(2020, 3, 14, 9, 29, 46, 795994, tzinfo=tzutc()),\n",
    "#  'name': 'Miyagi Credits',\n",
    "#  'owner': 1,\n",
    "#  'status': 'ACTIVE',\n",
    "#  'thumbnail': None,\n",
    "#  'wallet_id': 18}\n",
    "# {'available_credits': 10,\n",
    "#  'created': datetime.datetime(2020, 3, 14, 9, 29, 46, 795994, tzinfo=tzutc()),\n",
    "#  'description': 'Credits purchased by Mr. Miyagi end up in here',\n",
    "#  'modified': datetime.datetime(2020, 3, 14, 9, 29, 46, 795994, tzinfo=tzutc()),\n",
    "#  'name': 'Miyagi Credits',\n",
    "#  'owner': 1,\n",
    "#  'status': 'ACTIVE',\n",
    "#  'thumbnail': None,\n",
    "#  'wallet_id': 18}"
   ]
  },
  {
   "cell_type": "code",
   "execution_count": null,
   "id": "dbee3271",
   "metadata": {},
   "outputs": [],
   "source": []
  }
 ],
 "metadata": {
  "kernelspec": {
   "display_name": "",
   "language": "python",
   "name": ""
  },
  "language_info": {
   "codemirror_mode": {
    "name": "ipython",
    "version": 3
   },
   "file_extension": ".py",
   "mimetype": "text/x-python",
   "name": "python",
   "nbconvert_exporter": "python",
   "pygments_lexer": "ipython3",
   "version": "3.10.11"
  }
 },
 "nbformat": 4,
 "nbformat_minor": 5
}
