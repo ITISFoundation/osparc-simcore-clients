{
 "cells": [
  {
   "attachments": {},
   "cell_type": "markdown",
   "id": "f15de720",
   "metadata": {},
   "source": [
    "# Basic Tutorial\n",
    "\n",
    "\n",
    "\n",
    "## Installation\n",
    "Install the python client and check the installation as follows:"
   ]
  },
  {
   "cell_type": "code",
   "execution_count": null,
   "id": "09653e21",
   "metadata": {
    "attributes": {
     "classes": [
      "command"
     ],
     "id": ""
    }
   },
   "outputs": [],
   "source": [
    "import importlib\n",
    "\n",
    "if importlib.util.find_spec(\"osparc\") is not None:\n",
    "    ! pip install osparc\n",
    "! python -c \"import osparc; print(osparc.__version__)\""
   ]
  },
  {
   "attachments": {},
   "cell_type": "markdown",
   "id": "34c8833d",
   "metadata": {},
   "source": [
    "## Setup\n",
    "\n",
    "To setup the client, we need to provide a username and password to the configuration. These can be obtained in the UI under [Preferences > API Settings > API Keys](https://docs.osparc.io/#/docs/platform_introduction/user_setup/security_details?id=generating-o%c2%b2s%c2%b2parc-tokens). Use the *API key* as username and the *API secret* as password. These should be specified as environment variables \"OSPARC_API_KEY\" and \"OSPARC_API_SECRET\" respectively. In addition you can specify the osparc endpoint you want to use (e.g. `https://api.osparc.io`) via the environment variable \"OSPARC_API_HOST\"."
   ]
  },
  {
   "attachments": {},
   "cell_type": "markdown",
   "id": "630c5926",
   "metadata": {},
   "source": [
    "The functions in the [osparc API](https://api.osparc.io/dev/doc#/) are grouped into sections such as *meta*, *users*, *files*, *solvers*, *studies*, *wallets* and *credits*. Each section address a different resource of the platform.\n",
    "\n",
    "For example, the *users* section includes functions about the user (i.e. you) and can be accessed initializing a ``UsersApi``:"
   ]
  },
  {
   "cell_type": "code",
   "execution_count": null,
   "id": "29337833",
   "metadata": {},
   "outputs": [],
   "source": [
    "from osparc import ApiClient, UsersApi\n",
    "\n",
    "with ApiClient() as api_client:\n",
    "    users_api = UsersApi(api_client)\n",
    "\n",
    "    profile = users_api.get_my_profile()\n",
    "    print(profile)\n",
    "\n",
    "    #\n",
    "    #  {'first_name': 'foo',\n",
    "    #  'gravatar_id': 'aa33fssec77ea434c2ea4fb92d0fd379e',\n",
    "    #  'groups': {'all': {'description': 'all users',\n",
    "    #                     'gid': '1',\n",
    "    #                     'label': 'Everyone'},\n",
    "    #             'me': {'description': 'primary group',\n",
    "    #                    'gid': '2',\n",
    "    #                    'label': 'foo'},\n",
    "    #             'organizations': []},\n",
    "    #  'last_name': '',\n",
    "    #  'login': 'foo@itis.swiss',\n",
    "    #  'role': 'USER'}\n",
    "    #"
   ]
  },
  {
   "attachments": {},
   "cell_type": "markdown",
   "id": "6912889e",
   "metadata": {},
   "source": [
    "## Solvers Workflow\n",
    "\n",
    "The osparc API can be used to execute any computational service published in the platform. This means that any computational service listed in the UI under the [Services Tab](https://docs.osparc.io/#/docs/platform_introduction/services) is accessible from the API. Note that computational services are denoted as *solvers* in the API for convenience, but they refer to the same concept.\n",
    "\n",
    "\n",
    "Let's use the sleepers computational service to illustrate a typical workflow. The sleepers computational service is a very basic service that simply waits (i.e. *sleeps*) a given time before producing some outputs. It takes as input one natural number, an optional text file input that contains another natural number and a boolean in the form of a checkbox. It also provides two outputs: one natural number and a file containing a single natural number."
   ]
  },
  {
   "cell_type": "code",
   "execution_count": null,
   "id": "398bcd09",
   "metadata": {},
   "outputs": [],
   "source": [
    "import time\n",
    "from pathlib import Path\n",
    "from zipfile import ZipFile\n",
    "from tempfile import TemporaryDirectory\n",
    "\n",
    "import osparc\n",
    "\n",
    "Path(\"file_with_number.txt\").write_text(\"3\")\n",
    "\n",
    "with osparc.ApiClient() as api_client:\n",
    "    files_api = osparc.FilesApi(api_client)\n",
    "    input_file: osparc.File = files_api.upload_file(file=\"file_with_number.txt\")\n",
    "\n",
    "    solver_key: str = \"simcore/services/comp/itis/sleeper\"\n",
    "    solver_version: str = \"2.1.6\"\n",
    "\n",
    "    solvers_api = osparc.SolversApi(api_client)\n",
    "    solver: osparc.Solver = solvers_api.get_solver_release(\n",
    "        solver_key=solver_key, version=solver_version\n",
    "    )\n",
    "\n",
    "    solver_ports = solvers_api.list_solver_ports(solver.id, solver.version)\n",
    "    print(f\"solver_ports: {solver_ports}\")\n",
    "\n",
    "    job: osparc.Job = solvers_api.create_job(\n",
    "        solver.id,\n",
    "        solver.version,\n",
    "        osparc.JobInputs(\n",
    "            {\n",
    "                \"input_4\": 2,\n",
    "                \"input_3\": \"false\",\n",
    "                \"input_2\": 3,\n",
    "                \"input_1\": input_file,\n",
    "            }\n",
    "        ),\n",
    "    )\n",
    "\n",
    "    status: osparc.JobStatus = solvers_api.start_job(solver.id, solver.version, job.id)\n",
    "    while not status.stopped_at:\n",
    "        time.sleep(3)\n",
    "        status = solvers_api.inspect_job(solver.id, solver.version, job.id)\n",
    "        print(\"Solver progress\", f\"{status.progress}/100\", flush=True)\n",
    "    assert status.state == \"SUCCESS\"\n",
    "\n",
    "    #\n",
    "    # Solver progress 0/100\n",
    "    # Solver progress 100/100\n",
    "\n",
    "    outputs: osparc.JobOutputs = solvers_api.get_job_outputs(\n",
    "        solver.id, solver.version, job.id\n",
    "    )\n",
    "\n",
    "    print(f\"Job {outputs.job_id} got these results:\")\n",
    "    for output_name, result in outputs.results.items():\n",
    "        print(output_name, \"=\", result)\n",
    "\n",
    "    #\n",
    "    # Job 19fc28f7-46fb-4e96-9129-5e924801f088 got these results:\n",
    "    #\n",
    "    # output_1 = {'checksum': '859fda0cb82fc4acb4686510a172d9a9-1',\n",
    "    # 'content_type': 'text/plain',\n",
    "    # 'filename': 'single_number.txt',\n",
    "    # 'id': '9fb4f70e-3589-3e9e-991e-3059086c3aae'}\n",
    "    # output_2 = 4.0\n",
    "\n",
    "    logfile_path: str = solvers_api.get_job_output_logfile(\n",
    "        solver.id, solver.version, job.id\n",
    "    )\n",
    "    zip_path = Path(logfile_path)\n",
    "\n",
    "    with TemporaryDirectory() as tmp_dir:\n",
    "        with ZipFile(f\"{zip_path}\") as fzip:\n",
    "            fzip.extractall(tmp_dir)\n",
    "        logfiles = list(Path(tmp_dir).glob(\"*.log*\"))\n",
    "        print(\"Unzipped\", logfiles[0], \"contains:\\n\", logfiles[0].read_text())\n",
    "    #\n",
    "    # Unzipped extracted/sleeper_2.0.2.logs contains:\n",
    "    # 2022-06-01T18:15:00.405035847+02:00 Entrypoint for stage production ...\n",
    "    # 2022-06-01T18:15:00.421279969+02:00 User : uid=0(root) gid=0(root) groups=0(root)\n",
    "    # 2022-06-01T18:15:00.421560331+02:00 Workdir : /home/scu\n",
    "    # ...\n",
    "    # 2022-06-01T18:15:00.864550043+02:00\n",
    "    # 2022-06-01T18:15:03.923876794+02:00 Will sleep for 3 seconds\n",
    "    # 2022-06-01T18:15:03.924473521+02:00 [PROGRESS] 1/3...\n",
    "    # 2022-06-01T18:15:03.925021846+02:00 Remaining sleep time 0.9999995231628418\n",
    "    # 2022-06-01T18:15:03.925558026+02:00 [PROGRESS] 2/3...\n",
    "    # 2022-06-01T18:15:03.926103062+02:00 Remaining sleep time 0.9999985694885254\n",
    "    # 2022-06-01T18:15:03.926643184+02:00 [PROGRESS] 3/3...\n",
    "    # 2022-06-01T18:15:03.933544384+02:00 Remaining sleep time 0.9999983310699463\n",
    "\n",
    "    download_path: str = files_api.download_file(file_id=outputs.results[\"output_1\"].id)\n",
    "    print(Path(download_path).read_text())\n",
    "    #\n",
    "    # 7"
   ]
  },
  {
   "attachments": {},
   "cell_type": "markdown",
   "id": "c0092d84",
   "metadata": {},
   "source": [
    "The script above\n",
    "\n",
    "1. Uploads a file ``file_with_number.txt``\n",
    "2. Selects version ``2.0.2`` of the ``sleeper``\n",
    "3. Runs the ``sleeper`` and provides a reference to the uploaded file and other values as input parameters\n",
    "4. Monitors the status of the solver while it is running in the platform\n",
    "5. When the execution completes, it checks the outputs\n",
    "6. The logs are downloaded, unzipped and saved to a new ```extracted``` directory\n",
    "7. One of the outputs is a file and it is downloaded\n",
    "\n",
    "\n",
    "#### Files\n",
    "\n",
    "Files used as input to solvers or produced by solvers in the platform are accessible in the **files** section and specifically with the ``FilesApi`` class.\n",
    "In order to use a file as input, it has to be uploaded first and the reference used in the corresponding solver's input."
   ]
  },
  {
   "attachments": {},
   "cell_type": "markdown",
   "id": "d6d2dfdb",
   "metadata": {},
   "source": [
    "```python\n",
    "files_api = FilesApi(api_client)\n",
    "input_file: File = files_api.upload_file(file=\"file_with_number.txt\")\n",
    "\n",
    "\n",
    "# ...\n",
    "\n",
    "\n",
    "outputs: JobOutputs = solvers_api.get_job_outputs(solver.id, solver.version, job.id)\n",
    "results_file: File = outputs.results[\"output_1\"]\n",
    "download_path: str = files_api.download_file(file_id=results_file.id)\n",
    "```"
   ]
  },
  {
   "attachments": {},
   "cell_type": "markdown",
   "id": "e40ad2a5",
   "metadata": {},
   "source": [
    "In the snippet above, ``input_file`` is a ``File`` reference to the uploaded file and that is passed as input to the solver. Analogously, ``results_file`` is a ``File`` produced by the solver and that can also be downloaded.\n",
    "\n",
    "\n",
    "#### Solvers, Inputs and Outputs\n",
    "\n",
    "The inputs and outputs are specific for every solver. Every input/output has a name and an associated type that can be as simple as booleans, numbers, strings ... or more complex as files. You can find this information in the UI under Services Tab, selecting the service card > Information > Raw metadata. For instance, the ``sleeper`` version ``2.0.2`` has the following ``raw-metadata``:"
   ]
  },
  {
   "attachments": {},
   "cell_type": "markdown",
   "id": "f5262250",
   "metadata": {
    "attributes": {
     "classes": [
      "json"
     ],
     "id": ""
    }
   },
   "source": [
    "```json\n",
    "{\n",
    " \"inputs\": {\n",
    "  \"input_1\": {\n",
    "   \"displayOrder\": 1,\n",
    "   \"label\": \"File with int number\",\n",
    "   \"description\": \"Pick a file containing only one integer\",\n",
    "   \"type\": \"data:text/plain\",\n",
    "   \"fileToKeyMap\": {\n",
    "    \"single_number.txt\": \"input_1\"\n",
    "   },\n",
    "   \"keyId\": \"input_1\"\n",
    "  },\n",
    "  \"input_2\": {\n",
    "   \"unitLong\": \"second\",\n",
    "   \"unitShort\": \"s\",\n",
    "   \"label\": \"Sleep interval\",\n",
    "   \"description\": \"Choose an amount of time to sleep in range [0-65]\",\n",
    "   \"keyId\": \"input_2\",\n",
    "   \"displayOrder\": 2,\n",
    "   \"type\": \"ref_contentSchema\",\n",
    "   \"contentSchema\": {\n",
    "    \"title\": \"Sleep interval\",\n",
    "    \"type\": \"integer\",\n",
    "    \"x_unit\": \"second\",\n",
    "    \"minimum\": 0,\n",
    "    \"maximum\": 65\n",
    "   },\n",
    "   \"defaultValue\": 2\n",
    "  },\n",
    "  \"input_3\": {\n",
    "   \"displayOrder\": 3,\n",
    "   \"label\": \"Fail after sleep\",\n",
    "   \"description\": \"If set to true will cause service to fail after it sleeps\",\n",
    "   \"type\": \"boolean\",\n",
    "   \"defaultValue\": false,\n",
    "   \"keyId\": \"input_3\"\n",
    "  },\n",
    "  \"input_4\": {\n",
    "   \"unitLong\": \"meter\",\n",
    "   \"unitShort\": \"m\",\n",
    "   \"label\": \"Distance to bed\",\n",
    "   \"description\": \"It will first walk the distance to bed\",\n",
    "   \"keyId\": \"input_4\",\n",
    "   \"displayOrder\": 4,\n",
    "   \"type\": \"ref_contentSchema\",\n",
    "   \"contentSchema\": {\n",
    "    \"title\": \"Distance to bed\",\n",
    "    \"type\": \"integer\",\n",
    "    \"x_unit\": \"meter\"\n",
    "   },\n",
    "   \"defaultValue\": 0\n",
    "  }\n",
    " }\n",
    "```"
   ]
  },
  {
   "attachments": {},
   "cell_type": "markdown",
   "id": "1584bf07",
   "metadata": {},
   "source": [
    "So, the inputs can be set as follows"
   ]
  },
  {
   "attachments": {},
   "cell_type": "markdown",
   "id": "5337fcae",
   "metadata": {},
   "source": [
    "```python\n",
    "# ...\n",
    "job: osparc.Job = solvers_api.create_job(\n",
    "    solver.id,\n",
    "    solver.version,\n",
    "    osparc.JobInputs(\n",
    "        {\n",
    "            \"input_4\": 2,\n",
    "            \"input_3\": \"false\",\n",
    "            \"input_2\": 3,\n",
    "            \"input_1\": input_file,\n",
    "        }\n",
    "    ),\n",
    ")\n",
    "```"
   ]
  },
  {
   "attachments": {},
   "cell_type": "markdown",
   "id": "8dfa35ad",
   "metadata": {},
   "source": [
    "And the metadata for the outputs are"
   ]
  },
  {
   "attachments": {},
   "cell_type": "markdown",
   "id": "d4222e74",
   "metadata": {
    "attributes": {
     "classes": [
      "json"
     ],
     "id": ""
    }
   },
   "source": [
    "```json\n",
    "  \"output_1\": {\n",
    "   \"displayOrder\": 1,\n",
    "   \"label\": \"File containing one random integer\",\n",
    "   \"description\": \"Integer is generated in range [1-9]\",\n",
    "   \"type\": \"data:text/plain\",\n",
    "   \"fileToKeyMap\": {\n",
    "    \"single_number.txt\": \"output_1\"\n",
    "   },\n",
    "   \"keyId\": \"output_1\"\n",
    "  },\n",
    "  \"output_2\": {\n",
    "   \"unitLong\": \"second\",\n",
    "   \"unitShort\": \"s\",\n",
    "   \"label\": \"Random sleep interval\",\n",
    "   \"description\": \"Interval is generated in range [1-9]\",\n",
    "   \"keyId\": \"output_2\",\n",
    "   \"displayOrder\": 2,\n",
    "   \"type\": \"ref_contentSchema\",\n",
    "   \"contentSchema\": {\n",
    "    \"title\": \"Random sleep interval\",\n",
    "    \"type\": \"integer\",\n",
    "    \"x_unit\": \"second\"\n",
    "   }\n",
    "```"
   ]
  },
  {
   "attachments": {},
   "cell_type": "markdown",
   "id": "97e73630",
   "metadata": {},
   "source": [
    "so this information determines which output corresponds to a number or a file in the following snippet"
   ]
  },
  {
   "attachments": {},
   "cell_type": "markdown",
   "id": "36e8f03b",
   "metadata": {},
   "source": [
    "```python\n",
    "# ...\n",
    "\n",
    "outputs: JobOutputs = solvers_api.get_job_outputs(solver.id, solver.version, job.id)\n",
    "\n",
    "output_file = outputs.results[\"output_1\"]\n",
    "number = outputs.results[\"output_2\"]\n",
    "\n",
    "assert status.state == \"SUCCESS\"\n",
    "\n",
    "\n",
    "assert isinstance(output_file, File)\n",
    "assert isinstance(number, float)\n",
    "\n",
    "# output file exists\n",
    "assert files_api.get_file(output_file.id) == output_file\n",
    "\n",
    "# can download and open\n",
    "download_path: str = files_api.download_file(file_id=output_file.id)\n",
    "assert float(Path(download_path).read_text()), \"contains a random number\"\n",
    "\n",
    "```"
   ]
  },
  {
   "attachments": {},
   "cell_type": "markdown",
   "id": "a58035b0",
   "metadata": {},
   "source": [
    "#### Job Status\n",
    "\n",
    "Once the client script triggers the solver, the solver runs in the platform and the script is freed. Sometimes, it is convenient to monitor the status of the run to see e.g. the progress of the execution or if the run was completed.\n",
    "\n",
    "A solver runs in a plaforma starts a ``Job``. Using the ``solvers_api``, allows us to inspect the ``Job`` and get a ``JobStatus`` with information about its status. For instance"
   ]
  },
  {
   "attachments": {},
   "cell_type": "markdown",
   "id": "93817d1e",
   "metadata": {},
   "source": [
    "```python \n",
    " status: JobStatus = solvers_api.start_job(solver.id, solver.version, job.id)\n",
    " while not status.stopped_at:\n",
    "     time.sleep(3)\n",
    "     status = solvers_api.inspect_job(solver.id, solver.version, job.id)\n",
    "     print(\"Solver progress\", f\"{status.progress}/100\", flush=True)\n",
    "```     "
   ]
  },
  {
   "attachments": {},
   "cell_type": "markdown",
   "id": "5180b589",
   "metadata": {},
   "source": [
    "#### Logs\n",
    "\n",
    "When a solver runs, it will generate logs during execution which are then saved as .log files. Starting from the osparc Python Client version 0.5.0, The ``solvers_api`` also allows us to obtain the ``logfile_path`` associated with a particular ``Job``. This is a zip file that can then be extracted and saved. For instance"
   ]
  },
  {
   "attachments": {},
   "cell_type": "markdown",
   "id": "417d4663",
   "metadata": {},
   "source": [
    "```python\n",
    "logfile_path: str = solvers_api.get_job_output_logfile(\n",
    "    solver.id, solver.version, job.id\n",
    ")\n",
    "zip_path = Path(logfile_path)\n",
    "\n",
    "extract_dir = Path(\"./extracted\")\n",
    "extract_dir.mkdir()\n",
    "\n",
    "with ZipFile(f\"{zip_path}\") as fzip:\n",
    "    fzip.extractall(f\"{extract_dir}\")\n",
    "```"
   ]
  },
  {
   "attachments": {},
   "cell_type": "markdown",
   "id": "72d60050",
   "metadata": {},
   "source": [
    "## References\n",
    "\n",
    "- [osparc API python client] documentation\n",
    "- [osparc API] documentation\n",
    "- A full script with this tutorial: [``sleeper.py``](https://github.com/ITISFoundation/osparc-simcore/blob/master/tests/public-api/examples/sleeper.py)\n",
    "\n",
    "[osparc API python client]:https://itisfoundation.github.io/osparc-simcore-clients/#/\n",
    "[osparc API]:https://api.osparc.io/dev/doc#/"
   ]
  }
 ],
 "metadata": {
  "kernelspec": {
   "display_name": "",
   "language": "python",
   "name": ""
  },
  "language_info": {
   "codemirror_mode": {
    "name": "ipython",
    "version": 3
   },
   "file_extension": ".py",
   "mimetype": "text/x-python",
   "name": "python",
   "nbconvert_exporter": "python",
   "pygments_lexer": "ipython3",
   "version": "3.10.11"
  }
 },
 "nbformat": 4,
 "nbformat_minor": 5
}
