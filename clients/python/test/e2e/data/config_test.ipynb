{
 "cells": [
  {
   "attachments": {},
   "cell_type": "markdown",
   "metadata": {},
   "source": [
    "# Test for checking configuration of jupyter kernel\n",
    "The point of this test is to check that the jupyter kernel is configured correctly"
   ]
  },
  {
   "cell_type": "code",
   "execution_count": null,
   "metadata": {},
   "outputs": [],
   "source": [
    "# imports\n",
    "from typing import Optional\n",
    "from pathlib import Path\n",
    "import sys\n",
    "import importlib\n",
    "import os"
   ]
  },
  {
   "cell_type": "code",
   "execution_count": null,
   "metadata": {
    "tags": [
     "parameters"
    ]
   },
   "outputs": [],
   "source": [
    "# parameters for papermill\n",
    "expected_python_bin:Optional[str] = None\n",
    "expected_osparc_version:Optional[str] = None\n",
    "expected_osparc_file:Optional[str] = None"
   ]
  },
  {
   "cell_type": "code",
   "execution_count": null,
   "metadata": {},
   "outputs": [],
   "source": [
    "# check osparc has been installed\n",
    "assert importlib.util.find_spec('osparc') is not None, 'osparc was not installed'\n",
    "import osparc"
   ]
  },
  {
   "cell_type": "code",
   "execution_count": null,
   "metadata": {},
   "outputs": [],
   "source": [
    "# check we are using the expected python bin and the expected osparc version\n",
    "assert expected_python_bin is not None, f'The {expected_python_bin} parameter was not passed correctly'\n",
    "assert Path(expected_python_bin) == Path(sys.executable), 'The wrong python interpreter is used'\n",
    "assert expected_osparc_version is not None, 'The expected_osparc_version was not set correctly'\n",
    "assert expected_osparc_version == str(osparc.__version__), 'osparc.__version__ did not match the expected version'\n",
    "assert expected_osparc_file is not None, 'The expected_osparc_file was not set correctly'\n",
    "assert expected_osparc_file == str(osparc.__file__), 'osparc.__file__ did not match the expected path'"
   ]
  },
  {
   "cell_type": "code",
   "execution_count": null,
   "metadata": {},
   "outputs": [],
   "source": [
    "# check environment variables are defined\n",
    "assert 'OSPARC_API_HOST' in os.environ, 'OSPARC_API_HOST was not an environment variable'\n",
    "assert 'OSPARC_API_KEY' in os.environ, 'OSPARC_API_KEY was not an environment variable'\n",
    "assert 'OSPARC_API_SECRET' in os.environ, 'OSPARC_API_SECRET was not an environment variable'"
   ]
  }
 ],
 "metadata": {
  "language_info": {
   "name": "python"
  },
  "orig_nbformat": 4
 },
 "nbformat": 4,
 "nbformat_minor": 2
}
