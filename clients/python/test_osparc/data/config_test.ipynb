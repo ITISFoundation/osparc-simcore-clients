{
 "cells": [
  {
   "attachments": {},
   "cell_type": "markdown",
   "metadata": {},
   "source": [
    "# Test for checking configuration of jupyter kernel\n",
    "The point of this test is to check that the jupyter kernel is configured correctly"
   ]
  },
  {
   "cell_type": "code",
   "execution_count": null,
   "metadata": {},
   "outputs": [],
   "source": [
    "# imports\n",
    "from typing import Optional\n",
    "from pathlib import Path\n",
    "import sys\n",
    "import importlib"
   ]
  },
  {
   "cell_type": "code",
   "execution_count": null,
   "metadata": {
    "tags": [
     "parameters"
    ]
   },
   "outputs": [],
   "source": [
    "# parameters for papermill\n",
    "expected_python_bin:Optional[str] = None"
   ]
  },
  {
   "cell_type": "code",
   "execution_count": null,
   "metadata": {},
   "outputs": [],
   "source": [
    "# check we are using the expected python bin\n",
    "import sys\n",
    "from pathlib import Path\n",
    "assert expected_python_bin is not None, f'The {expected_python_bin} parameter was not passed correctly'\n",
    "assert Path(expected_python_bin) == Path(sys.executable), 'The wrong python interpreter is used'"
   ]
  },
  {
   "cell_type": "code",
   "execution_count": null,
   "metadata": {},
   "outputs": [],
   "source": [
    "# check osparc has been installed\n",
    "assert importlib.util.find_spec('osparc') is not None, 'osparc was not installed'"
   ]
  }
 ],
 "metadata": {
  "language_info": {
   "name": "python"
  },
  "orig_nbformat": 4
 },
 "nbformat": 4,
 "nbformat_minor": 2
}
