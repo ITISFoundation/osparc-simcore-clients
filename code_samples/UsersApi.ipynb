{
 "cells": [
  {
   "cell_type": "markdown",
   "metadata": {},
   "source": [
    "# osparc.UsersApi\n",
    "\n",
    "All URIs are relative to *http://localhost*\n",
    "\n",
    "Method | HTTP request | Description\n",
    "------------- | ------------- | -------------\n",
    "[**get_my_profile**](UsersApi.md#get_my_profile) | **GET** /v0/me | Get My Profile\n",
    "[**update_my_profile**](UsersApi.md#update_my_profile) | **PUT** /v0/me | Update My Profile\n",
    "\n",
    "\n",
    "# **get_my_profile**\n",
    "> Profile get_my_profile()\n",
    "\n",
    "Get My Profile\n",
    "\n",
    "### Example\n",
    "\n",
    "* Basic Authentication (HTTPBasic):"
   ]
  },
  {
   "cell_type": "code",
   "execution_count": null,
   "metadata": {},
   "outputs": [],
   "source": [
    "!.venv/bin/pip install git+https://github.com/ITISFoundation/osparc-simcore-python-client.git"
   ]
  },
  {
   "cell_type": "code",
   "execution_count": null,
   "metadata": {},
   "outputs": [],
   "source": [
    "from __future__ import print_function\n",
    "import time\n",
    "import osparc\n",
    "from osparc.rest import ApiException\n",
    "from pprint import pprint\n",
    "\n",
    "\n",
    "configuration = osparc.Configuration()\n",
    "# Configure HTTP basic authorization: HTTPBasic  \n",
    "#\n",
    "# WARNING: this is ONLY for demo purposes. \n",
    "#\n",
    "configuration.username = 'YOUR API KEY_HERE'\n",
    "configuration.password = 'YOUR_API_SECRET'\n",
    "\n",
    "# Defining host is optional and default to http://localhost\n",
    "configuration.host = \"http://api.osparc.io\"\n",
    "\n",
    "\n",
    "\n",
    "# Enter a context with an instance of the API client\n",
    "with osparc.ApiClient(configuration) as api_client:\n",
    "    # Create an instance of the API class\n",
    "    api_instance = osparc.UsersApi(api_client)\n",
    "    \n",
    "    try:\n",
    "        # Get My Profile\n",
    "        api_response = api_instance.get_my_profile()\n",
    "        pprint(api_response)\n",
    "    except ApiException as e:\n",
    "        print(\"Exception when calling UsersApi->get_my_profile: %s\\n\" % e)"
   ]
  },
  {
   "cell_type": "markdown",
   "metadata": {},
   "source": [
    "### Parameters\n",
    "This endpoint does not need any parameter.\n",
    "\n",
    "### Return type\n",
    "\n",
    "[**Profile**](Profile.md)\n",
    "\n",
    "### Authorization\n",
    "\n",
    "[HTTPBasic](../README.md#HTTPBasic)\n",
    "\n",
    "### HTTP request headers\n",
    "\n",
    " - **Content-Type**: Not defined\n",
    " - **Accept**: application/json\n",
    "\n",
    "### HTTP response details\n",
    "| Status code | Description | Response headers |\n",
    "|-------------|-------------|------------------|\n",
    "**200** | Successful Response |  -  |\n",
    "\n",
    "[[Back to top]](#) [[Back to API list]](../README.md#documentation-for-api-endpoints) [[Back to Model list]](../README.md#documentation-for-models) [[Back to README]](../README.md)\n",
    "\n",
    "# **update_my_profile**\n",
    "> Profile update_my_profile(profile_update)\n",
    "\n",
    "Update My Profile\n",
    "\n",
    "### Example\n",
    "\n",
    "* Basic Authentication (HTTPBasic):"
   ]
  },
  {
   "cell_type": "code",
   "execution_count": null,
   "metadata": {},
   "outputs": [],
   "source": [
    "with osparc.ApiClient(configuration) as api_client:\n",
    "    # Create an instance of the API class\n",
    "    api_instance = osparc.UsersApi(api_client)\n",
    "    profile_update = osparc.ProfileUpdate() # ProfileUpdate | \n",
    "    profile_update.first_name = \"Perico\"\n",
    "    profile_update.last_name = \"Crespo\"\n",
    "\n",
    "    try:\n",
    "        # Update My Profile\n",
    "        api_response = api_instance.update_my_profile(profile_update)\n",
    "        pprint(api_response)\n",
    "    except ApiException as e:\n",
    "        print(\"Exception when calling UsersApi->update_my_profile: %s\\n\" % e)"
   ]
  },
  {
   "cell_type": "markdown",
   "metadata": {},
   "source": [
    "### Parameters\n",
    "\n",
    "Name | Type | Description  | Notes\n",
    "------------- | ------------- | ------------- | -------------\n",
    " **profile_update** | [**ProfileUpdate**](ProfileUpdate.md)|  | \n",
    "\n",
    "### Return type\n",
    "\n",
    "[**Profile**](Profile.md)\n",
    "\n",
    "### Authorization\n",
    "\n",
    "[HTTPBasic](../README.md#HTTPBasic)\n",
    "\n",
    "### HTTP request headers\n",
    "\n",
    " - **Content-Type**: application/json\n",
    " - **Accept**: application/json\n",
    "\n",
    "### HTTP response details\n",
    "| Status code | Description | Response headers |\n",
    "|-------------|-------------|------------------|\n",
    "**200** | Successful Response |  -  |\n",
    "**422** | Validation Error |  -  |\n",
    "\n",
    "[[Back to top]](#) [[Back to API list]](../README.md#documentation-for-api-endpoints) [[Back to Model list]](../README.md#documentation-for-models) [[Back to README]](../README.md)"
   ]
  }
 ],
 "metadata": {
  "kernelspec": {
   "display_name": "python (maths)",
   "language": "python",
   "name": "python-maths"
  },
  "language_info": {
   "codemirror_mode": {
    "name": "ipython",
    "version": 3
   },
   "file_extension": ".py",
   "mimetype": "text/x-python",
   "name": "python",
   "nbconvert_exporter": "python",
   "pygments_lexer": "ipython3",
   "version": "3.7.6"
  }
 },
 "nbformat": 4,
 "nbformat_minor": 4
}
